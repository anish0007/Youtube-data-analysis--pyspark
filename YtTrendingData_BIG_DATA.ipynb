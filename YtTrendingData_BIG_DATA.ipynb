{
 "cells": [
  {
   "cell_type": "code",
   "execution_count": 1,
   "metadata": {
    "collapsed": false
   },
   "outputs": [],
   "source": [
    "from pyspark.sql import *\n",
    "from pyspark.sql.types import *\n",
    "from pyspark.sql.functions import *"
   ]
  },
  {
   "cell_type": "code",
   "execution_count": 2,
   "metadata": {
    "collapsed": false
   },
   "outputs": [],
   "source": [
    "spark = SparkSession \\\n",
    "    .builder \\\n",
    "    .appName(\"BIG DATA PROJECT\") \\\n",
    "    .getOrCreate()"
   ]
  },
  {
   "cell_type": "code",
   "execution_count": 3,
   "metadata": {
    "collapsed": false
   },
   "outputs": [
    {
     "name": "stdout",
     "output_type": "stream",
     "text": [
      "StructType(List(StructField(video_id,StringType,false),StructField(trending_date,StringType,false),StructField(title,StringType,false),StructField(channel_title,StringType,false),StructField(category_id,IntegerType,false),StructField(publish_time,TimestampType,false),StructField(tags,StringType,false),StructField(views,LongType,false),StructField(likes,LongType,false),StructField(dislikes,LongType,false),StructField(comment_count,LongType,false)))\n"
     ]
    }
   ],
   "source": [
    "youtubeSchema = StructType([\n",
    "  StructField(\"video_id\", StringType(), False),\n",
    "  StructField(\"trending_date\", StringType(), False),\n",
    "  StructField(\"title\", StringType(), False),\n",
    "  StructField(\"channel_title\", StringType(), False),\n",
    "  StructField(\"category_id\", IntegerType(), False),\n",
    "  StructField(\"publish_time\", TimestampType(), False),\n",
    "  StructField(\"tags\", StringType(), False),\n",
    "  StructField(\"views\", LongType(), False),\n",
    "  StructField(\"likes\", LongType(), False),\n",
    "  StructField(\"dislikes\", LongType(), False),\n",
    "  StructField(\"comment_count\", LongType(), False),\n",
    "])\n",
    "print(youtubeSchema)"
   ]
  },
  {
   "cell_type": "code",
   "execution_count": 4,
   "metadata": {
    "collapsed": true
   },
   "outputs": [],
   "source": [
    "YtData = spark.read.csv('INvideos.csv', \n",
    "                         schema=youtubeSchema, header=True)"
   ]
  },
  {
   "cell_type": "code",
   "execution_count": 5,
   "metadata": {
    "collapsed": false,
    "scrolled": true
   },
   "outputs": [
    {
     "name": "stdout",
     "output_type": "stream",
     "text": [
      "+-----------+-------------+--------------------+---------------+-----------+--------------------+--------------------+-------+-----+--------+-------------+\n",
      "|   video_id|trending_date|               title|  channel_title|category_id|        publish_time|                tags|  views|likes|dislikes|comment_count|\n",
      "+-----------+-------------+--------------------+---------------+-----------+--------------------+--------------------+-------+-----+--------+-------------+\n",
      "|kzwfHumJyYc|     17.14.11|Sharry Mann: Cute...|Lokdhun Punjabi|          1|2017-11-12 12:20:...|\"sharry mann|\"\"sh...|1096327|33966|     798|          882|\n",
      "|zUZ1z7FwLc8|     17.14.11|पीरियड्स के समय, ...|        HJ NEWS|         25|2017-11-13 05:43:...|\"पीरियड्स के समय|...| 590101|  735|     904|            0|\n",
      "|10L1hZ9qa58|     17.14.11|Stylish Star Allu...|           TFPC|         24|2017-11-12 15:48:...|\"Stylish Star All...| 473988| 2011|     243|          149|\n",
      "|N1vE8iiEg64|     17.14.11|Eruma Saani | Tam...|    Eruma Saani|         23|2017-11-12 07:08:...|\"Eruma Saani|\"\"Ta...|1242680|70353|    1624|         2684|\n",
      "|kJzGH0PVQHQ|     17.14.11|why Samantha beca...|     Filmylooks|         24|2017-11-13 01:14:...|\"Filmylooks|\"\"lat...| 464015|  492|     293|           66|\n",
      "+-----------+-------------+--------------------+---------------+-----------+--------------------+--------------------+-------+-----+--------+-------------+\n",
      "only showing top 5 rows\n",
      "\n"
     ]
    }
   ],
   "source": [
    "YtData.show(5)"
   ]
  },
  {
   "cell_type": "code",
   "execution_count": 6,
   "metadata": {
    "collapsed": true
   },
   "outputs": [],
   "source": [
    "def count_missings(YtData,sort=True):\n",
    "    df = YtData.select([count(when(isnan(c) | isnull(c), c)).alias(c) for (c,c_type) in YtData.dtypes if c_type not in ('timestamp', 'date')]).toPandas()\n",
    "\n",
    "    if len(df) == 0:\n",
    "        print(\"There are no any missing values!\")\n",
    "        return None\n",
    "\n",
    "    if sort:\n",
    "        return df.rename(index={0: 'count'}).T.sort_values(\"count\",ascending=False)\n",
    "\n",
    "    return df"
   ]
  },
  {
   "cell_type": "code",
   "execution_count": 7,
   "metadata": {
    "collapsed": false
   },
   "outputs": [
    {
     "data": {
      "text/html": [
       "<div>\n",
       "<table border=\"1\" class=\"dataframe\">\n",
       "  <thead>\n",
       "    <tr style=\"text-align: right;\">\n",
       "      <th></th>\n",
       "      <th>count</th>\n",
       "    </tr>\n",
       "  </thead>\n",
       "  <tbody>\n",
       "    <tr>\n",
       "      <th>video_id</th>\n",
       "      <td>0</td>\n",
       "    </tr>\n",
       "    <tr>\n",
       "      <th>trending_date</th>\n",
       "      <td>0</td>\n",
       "    </tr>\n",
       "    <tr>\n",
       "      <th>title</th>\n",
       "      <td>0</td>\n",
       "    </tr>\n",
       "    <tr>\n",
       "      <th>channel_title</th>\n",
       "      <td>0</td>\n",
       "    </tr>\n",
       "    <tr>\n",
       "      <th>category_id</th>\n",
       "      <td>0</td>\n",
       "    </tr>\n",
       "    <tr>\n",
       "      <th>tags</th>\n",
       "      <td>0</td>\n",
       "    </tr>\n",
       "    <tr>\n",
       "      <th>views</th>\n",
       "      <td>0</td>\n",
       "    </tr>\n",
       "    <tr>\n",
       "      <th>likes</th>\n",
       "      <td>0</td>\n",
       "    </tr>\n",
       "    <tr>\n",
       "      <th>dislikes</th>\n",
       "      <td>0</td>\n",
       "    </tr>\n",
       "    <tr>\n",
       "      <th>comment_count</th>\n",
       "      <td>0</td>\n",
       "    </tr>\n",
       "  </tbody>\n",
       "</table>\n",
       "</div>"
      ],
      "text/plain": [
       "               count\n",
       "video_id           0\n",
       "trending_date      0\n",
       "title              0\n",
       "channel_title      0\n",
       "category_id        0\n",
       "tags               0\n",
       "views              0\n",
       "likes              0\n",
       "dislikes           0\n",
       "comment_count      0"
      ]
     },
     "execution_count": 7,
     "metadata": {},
     "output_type": "execute_result"
    }
   ],
   "source": [
    "count_missings(YtData)"
   ]
  },
  {
   "cell_type": "code",
   "execution_count": 8,
   "metadata": {
    "collapsed": false
   },
   "outputs": [
    {
     "name": "stdout",
     "output_type": "stream",
     "text": [
      "Row(max(likes)=2912710)\n"
     ]
    }
   ],
   "source": [
    "MostLiked = YtData.agg({\"likes\": \"max\"}).collect()[0]\n",
    "print(MostLiked)"
   ]
  },
  {
   "cell_type": "code",
   "execution_count": 9,
   "metadata": {
    "collapsed": true
   },
   "outputs": [],
   "source": [
    "MostLikedRow = YtData.where(YtData['likes'] == MostLiked[0])"
   ]
  },
  {
   "cell_type": "code",
   "execution_count": 10,
   "metadata": {
    "collapsed": false
   },
   "outputs": [
    {
     "name": "stdout",
     "output_type": "stream",
     "text": [
      "YouTube Rewind: The Shape of 2017 | #YouTubeRewind WITH 2912710 LIKES\n"
     ]
    }
   ],
   "source": [
    "a = MostLikedRow.select(\"title\").take(1)\n",
    "print(str(a[0]).split('\\'')[1] + ' WITH ' + str(MostLiked[0]) + ' LIKES')"
   ]
  },
  {
   "cell_type": "code",
   "execution_count": 11,
   "metadata": {
    "collapsed": false
   },
   "outputs": [
    {
     "name": "stdout",
     "output_type": "stream",
     "text": [
      "YouTube Rewind: The Shape of 2017 | #YouTubeRewind WITH 1545017 DISLIKES\n"
     ]
    }
   ],
   "source": [
    "MostDisliked = YtData.agg({\"dislikes\": \"max\"}).collect()[0]\n",
    "MostDislikedRow = YtData.where(YtData['dislikes'] == MostDisliked[0])\n",
    "a = MostDislikedRow.select(\"title\").take(1)\n",
    "print(str(a[0]).split('\\'')[1] + ' WITH ' + str(MostDisliked[0]) + ' DISLIKES')"
   ]
  },
  {
   "cell_type": "code",
   "execution_count": 12,
   "metadata": {
    "collapsed": false
   },
   "outputs": [
    {
     "name": "stdout",
     "output_type": "stream",
     "text": [
      "YouTube Rewind: The Shape of 2017 | #YouTubeRewind WITH 125432237 VIEWS\n"
     ]
    }
   ],
   "source": [
    "MostViewed = YtData.agg({\"views\": \"max\"}).collect()[0]\n",
    "MostViewedRow = YtData.where(YtData['views'] == MostViewed[0])\n",
    "a = MostViewedRow.select(\"title\").take(1)\n",
    "print(str(a[0]).split('\\'')[1] + ' WITH ' + str(MostViewed[0]) + ' VIEWS')"
   ]
  },
  {
   "cell_type": "code",
   "execution_count": 13,
   "metadata": {
    "collapsed": true
   },
   "outputs": [],
   "source": [
    "import pandas as pd"
   ]
  },
  {
   "cell_type": "code",
   "execution_count": 14,
   "metadata": {
    "collapsed": false
   },
   "outputs": [],
   "source": [
    "dictionary = pd.read_json('IndiaYTcategories.json')['items']"
   ]
  },
  {
   "cell_type": "code",
   "execution_count": 15,
   "metadata": {
    "collapsed": false
   },
   "outputs": [],
   "source": [
    "categories = {}\n",
    "for category in dictionary:\n",
    "    snippet = category['snippet']\n",
    "    categories[int(category['id'])] = snippet['title']"
   ]
  },
  {
   "cell_type": "code",
   "execution_count": 16,
   "metadata": {
    "collapsed": false
   },
   "outputs": [
    {
     "name": "stdout",
     "output_type": "stream",
     "text": [
      "{1: 'Film & Animation', 2: 'Autos & Vehicles', 10: 'Music', 15: 'Pets & Animals', 17: 'Sports', 18: 'Short Movies', 19: 'Travel & Events', 20: 'Gaming', 21: 'Videoblogging', 22: 'People & Blogs', 23: 'Comedy', 24: 'Entertainment', 25: 'News & Politics', 26: 'Howto & Style', 27: 'Education', 28: 'Science & Technology', 30: 'Movies', 31: 'Anime/Animation', 32: 'Action/Adventure', 33: 'Classics', 34: 'Comedy', 35: 'Documentary', 36: 'Drama', 37: 'Family', 38: 'Foreign', 39: 'Horror', 40: 'Sci-Fi/Fantasy', 41: 'Thriller', 42: 'Shorts', 43: 'Shows', 44: 'Trailers'}\n"
     ]
    }
   ],
   "source": [
    "print(categories)"
   ]
  },
  {
   "cell_type": "code",
   "execution_count": 17,
   "metadata": {
    "collapsed": false
   },
   "outputs": [
    {
     "name": "stdout",
     "output_type": "stream",
     "text": [
      "[(1, 'Film & Animation'), (2, 'Autos & Vehicles'), (10, 'Music'), (15, 'Pets & Animals'), (17, 'Sports'), (18, 'Short Movies'), (19, 'Travel & Events'), (20, 'Gaming'), (21, 'Videoblogging'), (22, 'People & Blogs'), (23, 'Comedy'), (24, 'Entertainment'), (25, 'News & Politics'), (26, 'Howto & Style'), (27, 'Education'), (28, 'Science & Technology'), (30, 'Movies'), (31, 'Anime/Animation'), (32, 'Action/Adventure'), (33, 'Classics'), (34, 'Comedy'), (35, 'Documentary'), (36, 'Drama'), (37, 'Family'), (38, 'Foreign'), (39, 'Horror'), (40, 'Sci-Fi/Fantasy'), (41, 'Thriller'), (42, 'Shorts'), (43, 'Shows'), (44, 'Trailers')]\n"
     ]
    }
   ],
   "source": [
    "CatDF = []\n",
    "for key,value in categories.items():\n",
    "    CatDF.append((key,value))\n",
    "print(CatDF)"
   ]
  },
  {
   "cell_type": "code",
   "execution_count": 18,
   "metadata": {
    "collapsed": false
   },
   "outputs": [],
   "source": [
    "CategoryDf = spark.createDataFrame(CatDF, [\"category_id\", \"category_name\"])"
   ]
  },
  {
   "cell_type": "code",
   "execution_count": 19,
   "metadata": {
    "collapsed": false
   },
   "outputs": [
    {
     "name": "stdout",
     "output_type": "stream",
     "text": [
      "+-----------+--------------------+\n",
      "|category_id|       category_name|\n",
      "+-----------+--------------------+\n",
      "|          1|    Film & Animation|\n",
      "|          2|    Autos & Vehicles|\n",
      "|         10|               Music|\n",
      "|         15|      Pets & Animals|\n",
      "|         17|              Sports|\n",
      "|         18|        Short Movies|\n",
      "|         19|     Travel & Events|\n",
      "|         20|              Gaming|\n",
      "|         21|       Videoblogging|\n",
      "|         22|      People & Blogs|\n",
      "|         23|              Comedy|\n",
      "|         24|       Entertainment|\n",
      "|         25|     News & Politics|\n",
      "|         26|       Howto & Style|\n",
      "|         27|           Education|\n",
      "|         28|Science & Technology|\n",
      "|         30|              Movies|\n",
      "|         31|     Anime/Animation|\n",
      "|         32|    Action/Adventure|\n",
      "|         33|            Classics|\n",
      "+-----------+--------------------+\n",
      "only showing top 20 rows\n",
      "\n"
     ]
    }
   ],
   "source": [
    "CategoryDf.show()"
   ]
  },
  {
   "cell_type": "code",
   "execution_count": 20,
   "metadata": {
    "collapsed": false
   },
   "outputs": [
    {
     "data": {
      "text/plain": [
       "[('video_id', 'string'),\n",
       " ('trending_date', 'string'),\n",
       " ('title', 'string'),\n",
       " ('channel_title', 'string'),\n",
       " ('category_id', 'int'),\n",
       " ('publish_time', 'timestamp'),\n",
       " ('tags', 'string'),\n",
       " ('views', 'bigint'),\n",
       " ('likes', 'bigint'),\n",
       " ('dislikes', 'bigint'),\n",
       " ('comment_count', 'bigint')]"
      ]
     },
     "execution_count": 20,
     "metadata": {},
     "output_type": "execute_result"
    }
   ],
   "source": [
    "YtData.dtypes"
   ]
  },
  {
   "cell_type": "code",
   "execution_count": 21,
   "metadata": {
    "collapsed": false
   },
   "outputs": [
    {
     "name": "stdout",
     "output_type": "stream",
     "text": [
      "+-----------+----------+\n",
      "|category_id|max(views)|\n",
      "+-----------+----------+\n",
      "|          1|  38664360|\n",
      "|          2|   1770864|\n",
      "|         10|  43738208|\n",
      "|         15|   2490776|\n",
      "|         17|  20761480|\n",
      "|         19|    287298|\n",
      "|         20|  14589314|\n",
      "|         22|   7301276|\n",
      "|         23|  13241801|\n",
      "|         24| 125432237|\n",
      "|         25|  11510500|\n",
      "|         26|  12447671|\n",
      "|         27|   5217644|\n",
      "|         28|  35276532|\n",
      "|         29|    461408|\n",
      "|         30|   7398655|\n",
      "|         43|   2764124|\n",
      "+-----------+----------+\n",
      "\n",
      "+-----------+----------+\n",
      "|category_id|max(likes)|\n",
      "+-----------+----------+\n",
      "|          1|    865914|\n",
      "|          2|     51014|\n",
      "|         10|   1804377|\n",
      "|         15|    186307|\n",
      "|         17|    871933|\n",
      "|         19|      9292|\n",
      "|         20|    321673|\n",
      "|         22|    223455|\n",
      "|         23|    793330|\n",
      "|         24|   2912710|\n",
      "|         25|    530022|\n",
      "|         26|     68625|\n",
      "|         27|    352049|\n",
      "|         28|    402773|\n",
      "|         29|     46548|\n",
      "|         30|     77789|\n",
      "|         43|     19387|\n",
      "+-----------+----------+\n",
      "\n",
      "+-----------+-------------+\n",
      "|category_id|max(dislikes)|\n",
      "+-----------+-------------+\n",
      "|          1|        63908|\n",
      "|          2|         1232|\n",
      "|         10|       114882|\n",
      "|         15|         3322|\n",
      "|         17|        20389|\n",
      "|         19|          178|\n",
      "|         20|        22805|\n",
      "|         22|        25167|\n",
      "|         23|        44753|\n",
      "|         24|      1545017|\n",
      "|         25|        23324|\n",
      "|         26|        31993|\n",
      "|         27|         7352|\n",
      "|         28|        36352|\n",
      "|         29|         1131|\n",
      "|         30|         4785|\n",
      "|         43|         4294|\n",
      "+-----------+-------------+\n",
      "\n"
     ]
    }
   ],
   "source": [
    "MaxViews = YtData.groupBy('category_id').max('views') \\\n",
    "    .sort(col(\"category_id\"))\n",
    "MaxLiked = YtData.groupBy('category_id').max('likes') \\\n",
    "    .sort(col(\"category_id\"))\n",
    "MaxDisliked = YtData.groupBy('category_id').max('dislikes') \\\n",
    "    .sort(col(\"category_id\"))\n",
    "MaxViews.show()\n",
    "MaxLiked.show()\n",
    "MaxDisliked.show()"
   ]
  },
  {
   "cell_type": "code",
   "execution_count": 22,
   "metadata": {
    "collapsed": false
   },
   "outputs": [],
   "source": [
    "MaxViews = MaxViews.join(CategoryDf, how = 'inner', on = 'category_id')\n",
    "MaxLiked = MaxLiked.join(CategoryDf, how = 'inner', on = 'category_id')\n",
    "MaxDisliked = MaxDisliked.join(CategoryDf, how = 'inner', on = 'category_id')"
   ]
  },
  {
   "cell_type": "code",
   "execution_count": 23,
   "metadata": {
    "collapsed": false
   },
   "outputs": [
    {
     "name": "stdout",
     "output_type": "stream",
     "text": [
      "+-----------+------------+--------------------+\n",
      "|category_id|MaximumViews|       category_name|\n",
      "+-----------+------------+--------------------+\n",
      "|          1|    38664360|    Film & Animation|\n",
      "|          2|     1770864|    Autos & Vehicles|\n",
      "|         10|    43738208|               Music|\n",
      "|         15|     2490776|      Pets & Animals|\n",
      "|         17|    20761480|              Sports|\n",
      "|         19|      287298|     Travel & Events|\n",
      "|         20|    14589314|              Gaming|\n",
      "|         22|     7301276|      People & Blogs|\n",
      "|         23|    13241801|              Comedy|\n",
      "|         24|   125432237|       Entertainment|\n",
      "|         25|    11510500|     News & Politics|\n",
      "|         26|    12447671|       Howto & Style|\n",
      "|         27|     5217644|           Education|\n",
      "|         28|    35276532|Science & Technology|\n",
      "|         30|     7398655|              Movies|\n",
      "|         43|     2764124|               Shows|\n",
      "+-----------+------------+--------------------+\n",
      "\n",
      "+-----------+------------+--------------------+\n",
      "|category_id|MaximumLikes|       category_name|\n",
      "+-----------+------------+--------------------+\n",
      "|          1|      865914|    Film & Animation|\n",
      "|          2|       51014|    Autos & Vehicles|\n",
      "|         10|     1804377|               Music|\n",
      "|         15|      186307|      Pets & Animals|\n",
      "|         17|      871933|              Sports|\n",
      "|         19|        9292|     Travel & Events|\n",
      "|         20|      321673|              Gaming|\n",
      "|         22|      223455|      People & Blogs|\n",
      "|         23|      793330|              Comedy|\n",
      "|         24|     2912710|       Entertainment|\n",
      "|         25|      530022|     News & Politics|\n",
      "|         26|       68625|       Howto & Style|\n",
      "|         27|      352049|           Education|\n",
      "|         28|      402773|Science & Technology|\n",
      "|         30|       77789|              Movies|\n",
      "|         43|       19387|               Shows|\n",
      "+-----------+------------+--------------------+\n",
      "\n",
      "+-----------+---------------+--------------------+\n",
      "|category_id|MaximumDislikes|       category_name|\n",
      "+-----------+---------------+--------------------+\n",
      "|          1|          63908|    Film & Animation|\n",
      "|          2|           1232|    Autos & Vehicles|\n",
      "|         10|         114882|               Music|\n",
      "|         15|           3322|      Pets & Animals|\n",
      "|         17|          20389|              Sports|\n",
      "|         19|            178|     Travel & Events|\n",
      "|         20|          22805|              Gaming|\n",
      "|         22|          25167|      People & Blogs|\n",
      "|         23|          44753|              Comedy|\n",
      "|         24|        1545017|       Entertainment|\n",
      "|         25|          23324|     News & Politics|\n",
      "|         26|          31993|       Howto & Style|\n",
      "|         27|           7352|           Education|\n",
      "|         28|          36352|Science & Technology|\n",
      "|         30|           4785|              Movies|\n",
      "|         43|           4294|               Shows|\n",
      "+-----------+---------------+--------------------+\n",
      "\n"
     ]
    }
   ],
   "source": [
    "MaxViews=MaxViews.withColumnRenamed(\"max(views)\",\"MaximumViews\")\n",
    "MaxLiked=MaxLiked.withColumnRenamed(\"max(likes)\",\"MaximumLikes\")\n",
    "MaxDisliked=MaxDisliked.withColumnRenamed(\"max(dislikes)\",\"MaximumDislikes\")\n",
    "#MaxViews1 = spark.createDataFrame(MaxViews,Schema1)\n",
    "#MaxView1 = MaxView1.withColumn(\"Category_id\", MaxView1(\"category_id\").cast(StringType)).drop(\"category_id\")\n",
    "MaxViews.show()\n",
    "MaxLiked.show()\n",
    "MaxDisliked.show()"
   ]
  },
  {
   "cell_type": "code",
   "execution_count": 24,
   "metadata": {
    "collapsed": false
   },
   "outputs": [
    {
     "name": "stdout",
     "output_type": "stream",
     "text": [
      "+--------------------+--------+\n",
      "|               title|   views|\n",
      "+--------------------+--------+\n",
      "|Sharry Mann: Cute...| 1096327|\n",
      "|पीरियड्स के समय, ...|  590101|\n",
      "|Stylish Star Allu...|  473988|\n",
      "|Eruma Saani | Tam...| 1242680|\n",
      "|why Samantha beca...|  464015|\n",
      "|MCA (Middle Class...| 6106669|\n",
      "|Daang ( Full Vide...| 5718766|\n",
      "|Padmavati : Ek Di...|10588371|\n",
      "|Chiranjeevi in Na...|  118223|\n",
      "|New bike vs Old b...|  969030|\n",
      "|Mehjabi Reveals H...|  632747|\n",
      "|Jannat (Full Song...| 2348107|\n",
      "|Renu Desai Gives ...|  156085|\n",
      "|Peehu Srivastav P...|  472413|\n",
      "|Rowi Na | Nadha V...|  836006|\n",
      "|ஜெயலலிதாவின் உயில...|   89531|\n",
      "|TYPES OF STUDENTS...|  344545|\n",
      "|Tiger Zinda Hai |...|35885754|\n",
      "|Meri Setting Karw...|  209599|\n",
      "|The Trump Preside...| 2418783|\n",
      "+--------------------+--------+\n",
      "only showing top 20 rows\n",
      "\n",
      "+--------------------+------+\n",
      "|               title| likes|\n",
      "+--------------------+------+\n",
      "|Sharry Mann: Cute...| 33966|\n",
      "|पीरियड्स के समय, ...|   735|\n",
      "|Stylish Star Allu...|  2011|\n",
      "|Eruma Saani | Tam...| 70353|\n",
      "|why Samantha beca...|   492|\n",
      "|MCA (Middle Class...| 98612|\n",
      "|Daang ( Full Vide...|127477|\n",
      "|Padmavati : Ek Di...|132738|\n",
      "|Chiranjeevi in Na...|   520|\n",
      "|New bike vs Old b...| 59798|\n",
      "|Mehjabi Reveals H...|  4330|\n",
      "|Jannat (Full Song...| 32834|\n",
      "|Renu Desai Gives ...|   716|\n",
      "|Peehu Srivastav P...|  2611|\n",
      "|Rowi Na | Nadha V...| 24460|\n",
      "|ஜெயலலிதாவின் உயில...|   238|\n",
      "|TYPES OF STUDENTS...| 25717|\n",
      "|Tiger Zinda Hai |...|829362|\n",
      "|Meri Setting Karw...| 14070|\n",
      "|The Trump Preside...| 97187|\n",
      "+--------------------+------+\n",
      "only showing top 20 rows\n",
      "\n",
      "+--------------------+--------+\n",
      "|               title|dislikes|\n",
      "+--------------------+--------+\n",
      "|Sharry Mann: Cute...|     798|\n",
      "|पीरियड्स के समय, ...|     904|\n",
      "|Stylish Star Allu...|     243|\n",
      "|Eruma Saani | Tam...|    1624|\n",
      "|why Samantha beca...|     293|\n",
      "|MCA (Middle Class...|    4185|\n",
      "|Daang ( Full Vide...|    7134|\n",
      "|Padmavati : Ek Di...|    8812|\n",
      "|Chiranjeevi in Na...|      53|\n",
      "|New bike vs Old b...|    1545|\n",
      "|Mehjabi Reveals H...|    2183|\n",
      "|Jannat (Full Song...|     710|\n",
      "|Renu Desai Gives ...|      53|\n",
      "|Peehu Srivastav P...|     250|\n",
      "|Rowi Na | Nadha V...|     180|\n",
      "|ஜெயலலிதாவின் உயில...|      59|\n",
      "|TYPES OF STUDENTS...|     417|\n",
      "|Tiger Zinda Hai |...|   61195|\n",
      "|Meri Setting Karw...|     448|\n",
      "|The Trump Preside...|    6146|\n",
      "+--------------------+--------+\n",
      "only showing top 20 rows\n",
      "\n"
     ]
    }
   ],
   "source": [
    "VidNamesViews = YtData.select('title','views')\n",
    "VidNamesLikes = YtData.select('title','likes')\n",
    "VidNamesDislikes = YtData.select('title','dislikes')\n",
    "#MaxViews = MaxViews.join(YtData, MaxViews.MaximumViews == YtData.views ,'inner')\n",
    "VidNamesViews.show()\n",
    "VidNamesLikes.show()\n",
    "VidNamesDislikes.show()"
   ]
  },
  {
   "cell_type": "code",
   "execution_count": 25,
   "metadata": {
    "collapsed": false
   },
   "outputs": [],
   "source": [
    "MaxViews = MaxViews.join(VidNamesViews, MaxViews.MaximumViews == VidNamesViews.views ,'inner')\n",
    "MaxLiked = MaxLiked.join(VidNamesLikes, MaxLiked.MaximumLikes == VidNamesLikes.likes ,'inner')\n",
    "MaxDisliked = MaxDisliked.join(VidNamesDislikes, MaxDisliked.MaximumDislikes == VidNamesDislikes.dislikes ,'inner')"
   ]
  },
  {
   "cell_type": "code",
   "execution_count": 26,
   "metadata": {
    "collapsed": false
   },
   "outputs": [],
   "source": [
    "MaxViews = MaxViews.drop('views')\n",
    "MaxViews = MaxViews.drop('category_id')\n",
    "MaxLiked = MaxLiked.drop('likes')\n",
    "MaxLiked = MaxLiked.drop('category_id')\n",
    "MaxDisliked = MaxDisliked.drop('dislikes')\n",
    "MaxDisliked = MaxDisliked.drop('category_id')"
   ]
  },
  {
   "cell_type": "code",
   "execution_count": 27,
   "metadata": {
    "collapsed": false
   },
   "outputs": [
    {
     "name": "stdout",
     "output_type": "stream",
     "text": [
      "+------------+--------------------+--------------------+\n",
      "|MaximumViews|       category_name|               title|\n",
      "+------------+--------------------+--------------------+\n",
      "|     7301276|      People & Blogs|$3 Fries Vs. $100...|\n",
      "|    13241801|              Comedy|Why I'm not in Yo...|\n",
      "|    11510500|     News & Politics|No VIP treatment ...|\n",
      "|    11510500|     News & Politics|No VIP treatment ...|\n",
      "|     1770864|    Autos & Vehicles|శ్రీదేవి కూతుర్ల ...|\n",
      "|     5217644|           Education|    DO U KNO DA WEI?|\n",
      "|    43738208|               Music|Taylor Swift - De...|\n",
      "|      287298|     Travel & Events|Chinese Street Fo...|\n",
      "|     2764124|               Shows|Vijay Television ...|\n",
      "|     2764124|               Shows|Vijay Television ...|\n",
      "|     7398655|              Movies|Golak Bugni Bank ...|\n",
      "|    38664360|    Film & Animation|Tiger Zinda Hai |...|\n",
      "|   125432237|       Entertainment|YouTube Rewind: T...|\n",
      "|    12447671|       Howto & Style|17 Weird Ways To ...|\n",
      "|    20761480|              Sports|Real Life Trick S...|\n",
      "|    35276532|Science & Technology|Searching for Gen...|\n",
      "|    14589314|              Gaming|CLASH ROYALE: EPI...|\n",
      "|     2490776|      Pets & Animals|WE ARE ALL GOING ...|\n",
      "+------------+--------------------+--------------------+\n",
      "\n",
      "+------------+--------------------+--------------------+\n",
      "|MaximumLikes|       category_name|               title|\n",
      "+------------+--------------------+--------------------+\n",
      "|      223455|      People & Blogs|    about Logan Paul|\n",
      "|       77789|              Movies|Golak Bugni Bank ...|\n",
      "|        9292|     Travel & Events|Chinese Street Fo...|\n",
      "|      321673|              Gaming|I MADE IT TO THE ...|\n",
      "|      793330|              Comedy|Why I'm not in Yo...|\n",
      "|       19387|               Shows|When You Hate FAZ...|\n",
      "|       19387|               Shows|Vijay Television ...|\n",
      "|       19387|               Shows|Vijay Television ...|\n",
      "|       51014|    Autos & Vehicles|Marvel Studios' A...|\n",
      "|      865914|    Film & Animation|Tiger Zinda Hai |...|\n",
      "|     2912710|       Entertainment|YouTube Rewind: T...|\n",
      "|      186307|      Pets & Animals|WE ARE ALL GOING ...|\n",
      "|     1804377|               Music|Taylor Swift - En...|\n",
      "|       68625|       Howto & Style|17 Weird Ways To ...|\n",
      "|      352049|           Education|    DO U KNO DA WEI?|\n",
      "|      530022|     News & Politics|LOGAN PAUL RETURN...|\n",
      "|      871933|              Sports|Real Life Trick S...|\n",
      "|      402773|Science & Technology|Samsung Galaxy J6...|\n",
      "+------------+--------------------+--------------------+\n",
      "\n",
      "+---------------+--------------------+--------------------+\n",
      "|MaximumDislikes|       category_name|               title|\n",
      "+---------------+--------------------+--------------------+\n",
      "|          36352|Science & Technology|Searching for Gen...|\n",
      "|           7352|           Education|    DO U KNO DA WEI?|\n",
      "|           3322|      Pets & Animals|WE ARE ALL GOING ...|\n",
      "|           3322|      Pets & Animals|I may not play fo...|\n",
      "|           3322|      Pets & Animals|TVF's The Making ...|\n",
      "|           3322|      Pets & Animals|TVF's The Making ...|\n",
      "|          44753|              Comedy|Success Story Of ...|\n",
      "|            178|     Travel & Events|வாணி ராணி - VAANI...|\n",
      "|            178|     Travel & Events|Naa Peru Meenaksh...|\n",
      "|            178|     Travel & Events|Kuladheivam SUN T...|\n",
      "|            178|     Travel & Events|Akash Dadlani To ...|\n",
      "|            178|     Travel & Events|Bharti Singh is F...|\n",
      "|            178|     Travel & Events|Aruvi review by p...|\n",
      "|            178|     Travel & Events|Ram Charan Speech...|\n",
      "|            178|     Travel & Events|Relationship Expe...|\n",
      "|            178|     Travel & Events|Wrong Decision-Ha...|\n",
      "|            178|     Travel & Events|ஜெய் தன் சகோதரன் ...|\n",
      "|            178|     Travel & Events|தினமும் பயன்படுத்...|\n",
      "|            178|     Travel & Events|22 जनवरी 2018,बसं...|\n",
      "|            178|     Travel & Events|ಸೆಲ್ಪಿ ಹುಚ್ಚಿನಿಂದ...|\n",
      "|            178|     Travel & Events|Natpuna Ennanu Th...|\n",
      "|            178|     Travel & Events|ராஜா ராணி செம்பாவ...|\n",
      "|            178|     Travel & Events|Saavdhan India (F...|\n",
      "|            178|     Travel & Events|Alexander Graham ...|\n",
      "|            178|     Travel & Events|Kundali Bhagya - ...|\n",
      "|            178|     Travel & Events|27 Old tribal man...|\n",
      "|            178|     Travel & Events|Actor Sridevi Die...|\n",
      "|            178|     Travel & Events|HOLI SPECIAL 2018...|\n",
      "|            178|     Travel & Events|HOLI SPECIAL 2018...|\n",
      "|            178|     Travel & Events|રંઘોળા અકસ્માત : ...|\n",
      "|            178|     Travel & Events|Bhabi Ji Ghar Par...|\n",
      "|            178|     Travel & Events|Bhabi Ji Ghar Par...|\n",
      "|            178|     Travel & Events|Likhwaale Mere To...|\n",
      "|            178|     Travel & Events|#SixthSense This ...|\n",
      "|            178|     Travel & Events|#SixthSense This ...|\n",
      "|            178|     Travel & Events|দেখুন যেভাবে জেলে...|\n",
      "|            178|     Travel & Events|Nandini | 13th Ap...|\n",
      "|            178|     Travel & Events|Anchor lady gets ...|\n",
      "|            178|     Travel & Events|Chinese Street Fo...|\n",
      "|            178|     Travel & Events|IPL Extra Bisket ...|\n",
      "|            178|     Travel & Events|Fun Bucket JUNIOR...|\n",
      "|            178|     Travel & Events|Anubhavinchu Raja...|\n",
      "|            178|     Travel & Events|Anubhavinchu Raja...|\n",
      "|            178|     Travel & Events|नोएडा के चर्चित ह...|\n",
      "|            178|     Travel & Events|Mahanati Movie Pu...|\n",
      "|            178|     Travel & Events|Your Favorite Cha...|\n",
      "|            178|     Travel & Events|Society treating ...|\n",
      "|            178|     Travel & Events|Irumbuthirai - De...|\n",
      "|            178|     Travel & Events|Irumbuthirai - De...|\n",
      "|            178|     Travel & Events|Ladies Ki Mehnat ...|\n",
      "|           4294|               Shows|Deivamagal Episod...|\n",
      "|           4294|               Shows|8 DIY Edible Phon...|\n",
      "|           4294|               Shows|8 DIY Edible Phon...|\n",
      "|        1545017|       Entertainment|YouTube Rewind: T...|\n",
      "|          25167|      People & Blogs|HERE’S WHY 2017 W...|\n",
      "|           4785|              Movies|Golak Bugni Bank ...|\n",
      "|           1232|    Autos & Vehicles|జగన్ సీక్రెట్స్ బ...|\n",
      "|           1232|    Autos & Vehicles|II NAZARBATTU II ...|\n",
      "|           1232|    Autos & Vehicles|II NAZARBATTU II ...|\n",
      "|           1232|    Autos & Vehicles|Vishesh: Priya Pr...|\n",
      "|           1232|    Autos & Vehicles|Baaghi 2 Trailer ...|\n",
      "|           1232|    Autos & Vehicles|Jackie shroff Rea...|\n",
      "|           1232|    Autos & Vehicles|When Desi Parents...|\n",
      "|           1232|    Autos & Vehicles|When Desi Parents...|\n",
      "|           1232|    Autos & Vehicles|Halke Fulke Rehna...|\n",
      "|          22805|              Gaming|Clash Royale: Mee...|\n",
      "|          22805|              Gaming|Clash Royale: Mee...|\n",
      "|          31993|       Howto & Style|I Will Guess Your...|\n",
      "|          23324|     News & Politics|Sri Reddy Serious...|\n",
      "|          23324|     News & Politics|Sri Reddy Serious...|\n",
      "|          63908|    Film & Animation|Tiger Zinda Hai |...|\n",
      "|          20389|              Sports|World's Longest L...|\n",
      "|         114882|               Music|Selfish Song Vide...|\n",
      "+---------------+--------------------+--------------------+\n",
      "\n"
     ]
    }
   ],
   "source": [
    "MaxViews.show(MaxViews.count())\n",
    "MaxLiked.show(MaxLiked.count())\n",
    "MaxDisliked.show(MaxDisliked.count())"
   ]
  },
  {
   "cell_type": "code",
   "execution_count": 28,
   "metadata": {
    "collapsed": false
   },
   "outputs": [
    {
     "data": {
      "text/html": [
       "<div>\n",
       "<table border=\"1\" class=\"dataframe\">\n",
       "  <thead>\n",
       "    <tr style=\"text-align: right;\">\n",
       "      <th></th>\n",
       "      <th>0</th>\n",
       "      <th>1</th>\n",
       "      <th>2</th>\n",
       "      <th>3</th>\n",
       "      <th>4</th>\n",
       "    </tr>\n",
       "  </thead>\n",
       "  <tbody>\n",
       "    <tr>\n",
       "      <th>summary</th>\n",
       "      <td>count</td>\n",
       "      <td>mean</td>\n",
       "      <td>stddev</td>\n",
       "      <td>min</td>\n",
       "      <td>max</td>\n",
       "    </tr>\n",
       "    <tr>\n",
       "      <th>category_id</th>\n",
       "      <td>37352</td>\n",
       "      <td>21.57659563075605</td>\n",
       "      <td>6.556593033620352</td>\n",
       "      <td>1</td>\n",
       "      <td>43</td>\n",
       "    </tr>\n",
       "    <tr>\n",
       "      <th>views</th>\n",
       "      <td>37352</td>\n",
       "      <td>1060477.645882416</td>\n",
       "      <td>3184932.0533807403</td>\n",
       "      <td>4024</td>\n",
       "      <td>125432237</td>\n",
       "    </tr>\n",
       "    <tr>\n",
       "      <th>likes</th>\n",
       "      <td>37352</td>\n",
       "      <td>27082.71765902763</td>\n",
       "      <td>97145.09513101683</td>\n",
       "      <td>0</td>\n",
       "      <td>2912710</td>\n",
       "    </tr>\n",
       "    <tr>\n",
       "      <th>dislikes</th>\n",
       "      <td>37352</td>\n",
       "      <td>1665.0819768687086</td>\n",
       "      <td>16076.174538768348</td>\n",
       "      <td>0</td>\n",
       "      <td>1545017</td>\n",
       "    </tr>\n",
       "    <tr>\n",
       "      <th>comment_count</th>\n",
       "      <td>37352</td>\n",
       "      <td>2676.9974298565003</td>\n",
       "      <td>14868.317129651421</td>\n",
       "      <td>0</td>\n",
       "      <td>827755</td>\n",
       "    </tr>\n",
       "  </tbody>\n",
       "</table>\n",
       "</div>"
      ],
      "text/plain": [
       "                   0                   1                   2     3          4\n",
       "summary        count                mean              stddev   min        max\n",
       "category_id    37352   21.57659563075605   6.556593033620352     1         43\n",
       "views          37352   1060477.645882416  3184932.0533807403  4024  125432237\n",
       "likes          37352   27082.71765902763   97145.09513101683     0    2912710\n",
       "dislikes       37352  1665.0819768687086  16076.174538768348     0    1545017\n",
       "comment_count  37352  2676.9974298565003  14868.317129651421     0     827755"
      ]
     },
     "execution_count": 28,
     "metadata": {},
     "output_type": "execute_result"
    }
   ],
   "source": [
    "YtData.describe().toPandas().transpose()"
   ]
  },
  {
   "cell_type": "code",
   "execution_count": 29,
   "metadata": {
    "collapsed": false
   },
   "outputs": [
    {
     "name": "stdout",
     "output_type": "stream",
     "text": [
      "+--------------------+-----+\n",
      "|            features|likes|\n",
      "+--------------------+-----+\n",
      "|[1.0,1096327.0,79...|33966|\n",
      "|[25.0,590101.0,90...|  735|\n",
      "|[24.0,473988.0,24...| 2011|\n",
      "+--------------------+-----+\n",
      "only showing top 3 rows\n",
      "\n"
     ]
    }
   ],
   "source": [
    "from pyspark.ml.feature import VectorAssembler\n",
    "vectorAssembler = VectorAssembler(inputCols = ['category_id','views','dislikes','comment_count'], outputCol = 'features')\n",
    "YtDataAssem = vectorAssembler.transform(YtData)\n",
    "YtDataAssem = YtDataAssem.select(['features', 'likes'])\n",
    "YtDataAssem.show(3)"
   ]
  },
  {
   "cell_type": "code",
   "execution_count": 30,
   "metadata": {
    "collapsed": true
   },
   "outputs": [],
   "source": [
    "splits = YtDataAssem.randomSplit([0.7, 0.3])\n",
    "train_df = splits[0]\n",
    "test_df = splits[1]"
   ]
  },
  {
   "cell_type": "code",
   "execution_count": 31,
   "metadata": {
    "collapsed": false
   },
   "outputs": [
    {
     "name": "stdout",
     "output_type": "stream",
     "text": [
      "Coefficients: [-83.2208034715,0.0183923798593,-1.15586775182,3.30289951329]\n",
      "Intercept: 2358.094551189264\n"
     ]
    }
   ],
   "source": [
    "from pyspark.ml.regression import LinearRegression\n",
    "lr = LinearRegression(featuresCol = 'features', labelCol='likes')\n",
    "lr_model = lr.fit(train_df)\n",
    "print(\"Coefficients: \" + str(lr_model.coefficients))\n",
    "print(\"Intercept: \" + str(lr_model.intercept))"
   ]
  },
  {
   "cell_type": "code",
   "execution_count": 32,
   "metadata": {
    "collapsed": false
   },
   "outputs": [
    {
     "name": "stdout",
     "output_type": "stream",
     "text": [
      "RMSE: 40147.733765\n",
      "r2: 0.816478\n"
     ]
    }
   ],
   "source": [
    "trainingSummary = lr_model.summary\n",
    "print(\"RMSE: %f\" % trainingSummary.rootMeanSquaredError)\n",
    "print(\"r2: %f\" % trainingSummary.r2)"
   ]
  },
  {
   "cell_type": "code",
   "execution_count": 33,
   "metadata": {
    "collapsed": false
   },
   "outputs": [
    {
     "name": "stdout",
     "output_type": "stream",
     "text": [
      "+-------+------------------+\n",
      "|summary|             likes|\n",
      "+-------+------------------+\n",
      "|  count|             26081|\n",
      "|   mean|26663.125685364826|\n",
      "| stddev| 93718.42537058167|\n",
      "|    min|                 0|\n",
      "|    max|           2912710|\n",
      "+-------+------------------+\n",
      "\n"
     ]
    }
   ],
   "source": [
    "train_df.describe().show()"
   ]
  },
  {
   "cell_type": "code",
   "execution_count": 34,
   "metadata": {
    "collapsed": false
   },
   "outputs": [
    {
     "name": "stdout",
     "output_type": "stream",
     "text": [
      "+------------------+-----+--------------------+\n",
      "|        prediction|likes|            features|\n",
      "+------------------+-----+--------------------+\n",
      "| 2707.054930656344|  859|[1.0,14752.0,38.0...|\n",
      "| 2682.337295055174|  477|[1.0,20385.0,9.0,...|\n",
      "|2821.9191012102465|  262|[1.0,24517.0,34.0...|\n",
      "|3660.9943602797593| 1382|[1.0,29086.0,18.0...|\n",
      "| 3425.017966621715| 2728|[1.0,30810.0,121....|\n",
      "+------------------+-----+--------------------+\n",
      "only showing top 5 rows\n",
      "\n",
      "R Squared (R2) on test data = 0.828493\n"
     ]
    }
   ],
   "source": [
    "lr_predictions = lr_model.transform(test_df)\n",
    "lr_predictions.select(\"prediction\",\"likes\",\"features\").show(5)\n",
    "from pyspark.ml.evaluation import RegressionEvaluator\n",
    "lr_evaluator = RegressionEvaluator(predictionCol=\"prediction\", \\\n",
    "                 labelCol=\"likes\",metricName=\"r2\")\n",
    "print(\"R Squared (R2) on test data = %g\" % lr_evaluator.evaluate(lr_predictions))"
   ]
  },
  {
   "cell_type": "code",
   "execution_count": 35,
   "metadata": {
    "collapsed": false
   },
   "outputs": [
    {
     "name": "stdout",
     "output_type": "stream",
     "text": [
      "Root Mean Squared Error (RMSE) on test data = 43334.3\n"
     ]
    }
   ],
   "source": [
    "test_result = lr_model.evaluate(test_df)\n",
    "print(\"Root Mean Squared Error (RMSE) on test data = %g\" % test_result.rootMeanSquaredError)"
   ]
  },
  {
   "cell_type": "code",
   "execution_count": 36,
   "metadata": {
    "collapsed": false
   },
   "outputs": [
    {
     "name": "stdout",
     "output_type": "stream",
     "text": [
      "numIterations: 1\n",
      "objectiveHistory: [0.0]\n",
      "+-------------------+\n",
      "|          residuals|\n",
      "+-------------------+\n",
      "| -2297.153715289941|\n",
      "|-2128.8701423094612|\n",
      "| -1820.329293256983|\n",
      "|  -2750.57215604999|\n",
      "|-1294.1335232072142|\n",
      "|-1294.1335232072142|\n",
      "| -2653.719759224321|\n",
      "| -2147.853555712477|\n",
      "| -2139.836979005954|\n",
      "|-2796.8241756647744|\n",
      "|-1574.0594916657265|\n",
      "| -2586.563510667852|\n",
      "|-2596.5858603400093|\n",
      "|-2745.1722009465484|\n",
      "| 2225.1991233312483|\n",
      "| -2563.709639151063|\n",
      "| -1700.525857089673|\n",
      "| -2717.494219197316|\n",
      "|  -2983.44819113152|\n",
      "|-2226.3413853021348|\n",
      "+-------------------+\n",
      "only showing top 20 rows\n",
      "\n"
     ]
    }
   ],
   "source": [
    "print(\"numIterations: %d\" % trainingSummary.totalIterations)\n",
    "print(\"objectiveHistory: %s\" % str(trainingSummary.objectiveHistory))\n",
    "trainingSummary.residuals.show()"
   ]
  },
  {
   "cell_type": "code",
   "execution_count": 37,
   "metadata": {
    "collapsed": false
   },
   "outputs": [
    {
     "name": "stdout",
     "output_type": "stream",
     "text": [
      "+------------------+-----+--------------------+\n",
      "|        prediction|likes|            features|\n",
      "+------------------+-----+--------------------+\n",
      "| 2707.054930656344|  859|[1.0,14752.0,38.0...|\n",
      "| 2682.337295055174|  477|[1.0,20385.0,9.0,...|\n",
      "|2821.9191012102465|  262|[1.0,24517.0,34.0...|\n",
      "|3660.9943602797593| 1382|[1.0,29086.0,18.0...|\n",
      "| 3425.017966621715| 2728|[1.0,30810.0,121....|\n",
      "|2870.6487380833637|   58|[1.0,32913.0,34.0...|\n",
      "| 5838.472911693218| 6284|[1.0,38345.0,96.0...|\n",
      "|3086.0899998161603|  388|[1.0,40712.0,6.0,...|\n",
      "|3241.4127848134503| 1247|[1.0,43554.0,14.0...|\n",
      "| 3083.021040785819|   34|[1.0,44379.0,27.0...|\n",
      "|3281.5810826037678|  426|[1.0,49114.0,22.0...|\n",
      "|3149.9750285307487|   43|[1.0,49222.0,89.0...|\n",
      "|3981.7886377023706| 1307|[1.0,50568.0,48.0...|\n",
      "| 6338.968822016299| 5973|[1.0,52968.0,170....|\n",
      "| 5741.646136870722| 6578|[1.0,53606.0,154....|\n",
      "|3350.9718726554734|  997|[1.0,53892.0,78.0...|\n",
      "|3465.0081692247845| 2018|[1.0,53915.0,34.0...|\n",
      "|3624.4899679442947| 2247|[1.0,54702.0,100....|\n",
      "| 3352.141786209434|  367|[1.0,56838.0,61.0...|\n",
      "|3408.2419310646974|  408|[1.0,59143.0,52.0...|\n",
      "+------------------+-----+--------------------+\n",
      "only showing top 20 rows\n",
      "\n"
     ]
    }
   ],
   "source": [
    "predictions = lr_model.transform(test_df)\n",
    "predictions.select(\"prediction\",\"likes\",\"features\").show()"
   ]
  },
  {
   "cell_type": "code",
   "execution_count": 38,
   "metadata": {
    "collapsed": false
   },
   "outputs": [
    {
     "name": "stdout",
     "output_type": "stream",
     "text": [
      "Root Mean Squared Error (RMSE) on test data = 61799.3\n",
      "r2: 0.651193\n"
     ]
    }
   ],
   "source": [
    "from pyspark.ml.regression import DecisionTreeRegressor\n",
    "dt = DecisionTreeRegressor(featuresCol ='features', labelCol = 'likes')\n",
    "dt_model = dt.fit(train_df)\n",
    "dt_predictions = dt_model.transform(test_df)\n",
    "dt_evaluatorrmse = RegressionEvaluator(\n",
    "    labelCol='likes', predictionCol=\"prediction\", metricName=\"rmse\")\n",
    "rmse = dt_evaluatorrmse.evaluate(dt_predictions)\n",
    "dt_evaluatorr2 = RegressionEvaluator(\n",
    "    labelCol='likes', predictionCol=\"prediction\", metricName=\"r2\")\n",
    "r2 = dt_evaluatorr2.evaluate(dt_predictions)\n",
    "print(\"Root Mean Squared Error (RMSE) on test data = %g\" % rmse)\n",
    "print(\"r2: %f\" % r2)"
   ]
  },
  {
   "cell_type": "code",
   "execution_count": 39,
   "metadata": {
    "collapsed": false
   },
   "outputs": [
    {
     "data": {
      "text/plain": [
       "SparseVector(4, {0: 0.0242, 1: 0.1066, 2: 0.0206, 3: 0.8486})"
      ]
     },
     "execution_count": 39,
     "metadata": {},
     "output_type": "execute_result"
    }
   ],
   "source": [
    "dt_model.featureImportances"
   ]
  },
  {
   "cell_type": "code",
   "execution_count": 40,
   "metadata": {
    "collapsed": false
   },
   "outputs": [
    {
     "data": {
      "text/plain": [
       "[Row(video_id='kzwfHumJyYc', trending_date='17.14.11', title='Sharry Mann: Cute Munda ( Song Teaser) | Parmish Verma | Releasing on 17 November', channel_title='Lokdhun Punjabi', category_id=1, publish_time=datetime.datetime(2017, 11, 12, 12, 20, 39), tags='\"sharry mann|\"\"sharry mann new song\"\"|\"\"sharry mann cute munda\"\"|\"\"sharry mann latest song\"\"|\"\"sharry mann punjabi song 2017\"\"|\"\"parmish verma\"\"|\"\"parmish verma new song\"\"|\"\"parmish verma sharry mann\"\"|\"\"parmish verma sharry mann new song\"\"|\"\"parmish verma cute munda\"\"|\"\"new punjabi song 2017\"\"|\"\"punjabi song 2017\"\"|\"\"parmish verma new song 2017\"\"|\"\"parmish verma latest song 2017\"\"|\"\"punjabi songs 2017\"\"\"', views=1096327, likes=33966, dislikes=798, comment_count=882)]"
      ]
     },
     "execution_count": 40,
     "metadata": {},
     "output_type": "execute_result"
    }
   ],
   "source": [
    "YtData.take(1)"
   ]
  },
  {
   "cell_type": "code",
   "execution_count": 41,
   "metadata": {
    "collapsed": false
   },
   "outputs": [
    {
     "name": "stdout",
     "output_type": "stream",
     "text": [
      "+-----------------+-----+--------------------+\n",
      "|       prediction|likes|            features|\n",
      "+-----------------+-----+--------------------+\n",
      "|2244.645294745949|  859|[1.0,14752.0,38.0...|\n",
      "|2244.645294745949|  477|[1.0,20385.0,9.0,...|\n",
      "|2244.645294745949|  262|[1.0,24517.0,34.0...|\n",
      "|2611.635981292386| 1382|[1.0,29086.0,18.0...|\n",
      "|2611.635981292386| 2728|[1.0,30810.0,121....|\n",
      "+-----------------+-----+--------------------+\n",
      "only showing top 5 rows\n",
      "\n"
     ]
    }
   ],
   "source": [
    "from pyspark.ml.regression import GBTRegressor\n",
    "gbt = GBTRegressor(featuresCol = 'features', labelCol = 'likes', maxIter=10)\n",
    "gbt_model = gbt.fit(train_df)\n",
    "gbt_predictions = gbt_model.transform(test_df)\n",
    "gbt_predictions.select('prediction', 'likes', 'features').show(5)"
   ]
  },
  {
   "cell_type": "code",
   "execution_count": 42,
   "metadata": {
    "collapsed": false
   },
   "outputs": [
    {
     "name": "stdout",
     "output_type": "stream",
     "text": [
      "Root Mean Squared Error (RMSE) on test data = 60311.1\n",
      "r2: 0.667790\n"
     ]
    }
   ],
   "source": [
    "gbt_evaluatorrmse = RegressionEvaluator(\n",
    "    labelCol=\"likes\", predictionCol=\"prediction\", metricName=\"rmse\")\n",
    "rmse = gbt_evaluatorrmse.evaluate(gbt_predictions)\n",
    "print(\"Root Mean Squared Error (RMSE) on test data = %g\" % rmse)\n",
    "gbt_evaluatorr2 = RegressionEvaluator(\n",
    "    labelCol=\"likes\", predictionCol=\"prediction\", metricName=\"r2\")\n",
    "r2 = gbt_evaluatorr2.evaluate(gbt_predictions)\n",
    "print(\"r2: %f\" % r2)"
   ]
  },
  {
   "cell_type": "code",
   "execution_count": null,
   "metadata": {
    "collapsed": true
   },
   "outputs": [],
   "source": []
  }
 ],
 "metadata": {
  "anaconda-cloud": {},
  "kernelspec": {
   "display_name": "Python [Root]",
   "language": "python",
   "name": "Python [Root]"
  },
  "language_info": {
   "codemirror_mode": {
    "name": "ipython",
    "version": 3
   },
   "file_extension": ".py",
   "mimetype": "text/x-python",
   "name": "python",
   "nbconvert_exporter": "python",
   "pygments_lexer": "ipython3",
   "version": "3.5.2"
  }
 },
 "nbformat": 4,
 "nbformat_minor": 0
}
